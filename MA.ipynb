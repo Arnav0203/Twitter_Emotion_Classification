{
  "nbformat": 4,
  "nbformat_minor": 0,
  "metadata": {
    "colab": {
      "provenance": []
    },
    "kernelspec": {
      "name": "python3",
      "display_name": "Python 3"
    },
    "language_info": {
      "name": "python"
    },
    "widgets": {
      "application/vnd.jupyter.widget-state+json": {
        "cd50d26aaa5f41deb865ae39409d0b06": {
          "model_module": "@jupyter-widgets/controls",
          "model_name": "HBoxModel",
          "model_module_version": "1.5.0",
          "state": {
            "_dom_classes": [],
            "_model_module": "@jupyter-widgets/controls",
            "_model_module_version": "1.5.0",
            "_model_name": "HBoxModel",
            "_view_count": null,
            "_view_module": "@jupyter-widgets/controls",
            "_view_module_version": "1.5.0",
            "_view_name": "HBoxView",
            "box_style": "",
            "children": [
              "IPY_MODEL_f355ab64cb2c4bcebbebb749c508a02c",
              "IPY_MODEL_312d03287e99453c8a3231b97b8795ee",
              "IPY_MODEL_c3f32582437c4ab99317176fe09cfa35"
            ],
            "layout": "IPY_MODEL_8d5bafc662bc4dd6bce73fbc84435c94"
          }
        },
        "f355ab64cb2c4bcebbebb749c508a02c": {
          "model_module": "@jupyter-widgets/controls",
          "model_name": "HTMLModel",
          "model_module_version": "1.5.0",
          "state": {
            "_dom_classes": [],
            "_model_module": "@jupyter-widgets/controls",
            "_model_module_version": "1.5.0",
            "_model_name": "HTMLModel",
            "_view_count": null,
            "_view_module": "@jupyter-widgets/controls",
            "_view_module_version": "1.5.0",
            "_view_name": "HTMLView",
            "description": "",
            "description_tooltip": null,
            "layout": "IPY_MODEL_1bc2748db021497fbca85b7c32184f8a",
            "placeholder": "​",
            "style": "IPY_MODEL_7d820830a46c440491d19f33462aed41",
            "value": "config.json: 100%"
          }
        },
        "312d03287e99453c8a3231b97b8795ee": {
          "model_module": "@jupyter-widgets/controls",
          "model_name": "FloatProgressModel",
          "model_module_version": "1.5.0",
          "state": {
            "_dom_classes": [],
            "_model_module": "@jupyter-widgets/controls",
            "_model_module_version": "1.5.0",
            "_model_name": "FloatProgressModel",
            "_view_count": null,
            "_view_module": "@jupyter-widgets/controls",
            "_view_module_version": "1.5.0",
            "_view_name": "ProgressView",
            "bar_style": "success",
            "description": "",
            "description_tooltip": null,
            "layout": "IPY_MODEL_e02c28c70e57425ea5aedfe881593341",
            "max": 409,
            "min": 0,
            "orientation": "horizontal",
            "style": "IPY_MODEL_678376e423d44732ad0577a7e1bac8b3",
            "value": 409
          }
        },
        "c3f32582437c4ab99317176fe09cfa35": {
          "model_module": "@jupyter-widgets/controls",
          "model_name": "HTMLModel",
          "model_module_version": "1.5.0",
          "state": {
            "_dom_classes": [],
            "_model_module": "@jupyter-widgets/controls",
            "_model_module_version": "1.5.0",
            "_model_name": "HTMLModel",
            "_view_count": null,
            "_view_module": "@jupyter-widgets/controls",
            "_view_module_version": "1.5.0",
            "_view_name": "HTMLView",
            "description": "",
            "description_tooltip": null,
            "layout": "IPY_MODEL_33b3c18368454912a35fcdebcee76e4b",
            "placeholder": "​",
            "style": "IPY_MODEL_ae63f72c458243aa864dfb096582c075",
            "value": " 409/409 [00:00&lt;00:00, 4.17kB/s]"
          }
        },
        "8d5bafc662bc4dd6bce73fbc84435c94": {
          "model_module": "@jupyter-widgets/base",
          "model_name": "LayoutModel",
          "model_module_version": "1.2.0",
          "state": {
            "_model_module": "@jupyter-widgets/base",
            "_model_module_version": "1.2.0",
            "_model_name": "LayoutModel",
            "_view_count": null,
            "_view_module": "@jupyter-widgets/base",
            "_view_module_version": "1.2.0",
            "_view_name": "LayoutView",
            "align_content": null,
            "align_items": null,
            "align_self": null,
            "border": null,
            "bottom": null,
            "display": null,
            "flex": null,
            "flex_flow": null,
            "grid_area": null,
            "grid_auto_columns": null,
            "grid_auto_flow": null,
            "grid_auto_rows": null,
            "grid_column": null,
            "grid_gap": null,
            "grid_row": null,
            "grid_template_areas": null,
            "grid_template_columns": null,
            "grid_template_rows": null,
            "height": null,
            "justify_content": null,
            "justify_items": null,
            "left": null,
            "margin": null,
            "max_height": null,
            "max_width": null,
            "min_height": null,
            "min_width": null,
            "object_fit": null,
            "object_position": null,
            "order": null,
            "overflow": null,
            "overflow_x": null,
            "overflow_y": null,
            "padding": null,
            "right": null,
            "top": null,
            "visibility": null,
            "width": null
          }
        },
        "1bc2748db021497fbca85b7c32184f8a": {
          "model_module": "@jupyter-widgets/base",
          "model_name": "LayoutModel",
          "model_module_version": "1.2.0",
          "state": {
            "_model_module": "@jupyter-widgets/base",
            "_model_module_version": "1.2.0",
            "_model_name": "LayoutModel",
            "_view_count": null,
            "_view_module": "@jupyter-widgets/base",
            "_view_module_version": "1.2.0",
            "_view_name": "LayoutView",
            "align_content": null,
            "align_items": null,
            "align_self": null,
            "border": null,
            "bottom": null,
            "display": null,
            "flex": null,
            "flex_flow": null,
            "grid_area": null,
            "grid_auto_columns": null,
            "grid_auto_flow": null,
            "grid_auto_rows": null,
            "grid_column": null,
            "grid_gap": null,
            "grid_row": null,
            "grid_template_areas": null,
            "grid_template_columns": null,
            "grid_template_rows": null,
            "height": null,
            "justify_content": null,
            "justify_items": null,
            "left": null,
            "margin": null,
            "max_height": null,
            "max_width": null,
            "min_height": null,
            "min_width": null,
            "object_fit": null,
            "object_position": null,
            "order": null,
            "overflow": null,
            "overflow_x": null,
            "overflow_y": null,
            "padding": null,
            "right": null,
            "top": null,
            "visibility": null,
            "width": null
          }
        },
        "7d820830a46c440491d19f33462aed41": {
          "model_module": "@jupyter-widgets/controls",
          "model_name": "DescriptionStyleModel",
          "model_module_version": "1.5.0",
          "state": {
            "_model_module": "@jupyter-widgets/controls",
            "_model_module_version": "1.5.0",
            "_model_name": "DescriptionStyleModel",
            "_view_count": null,
            "_view_module": "@jupyter-widgets/base",
            "_view_module_version": "1.2.0",
            "_view_name": "StyleView",
            "description_width": ""
          }
        },
        "e02c28c70e57425ea5aedfe881593341": {
          "model_module": "@jupyter-widgets/base",
          "model_name": "LayoutModel",
          "model_module_version": "1.2.0",
          "state": {
            "_model_module": "@jupyter-widgets/base",
            "_model_module_version": "1.2.0",
            "_model_name": "LayoutModel",
            "_view_count": null,
            "_view_module": "@jupyter-widgets/base",
            "_view_module_version": "1.2.0",
            "_view_name": "LayoutView",
            "align_content": null,
            "align_items": null,
            "align_self": null,
            "border": null,
            "bottom": null,
            "display": null,
            "flex": null,
            "flex_flow": null,
            "grid_area": null,
            "grid_auto_columns": null,
            "grid_auto_flow": null,
            "grid_auto_rows": null,
            "grid_column": null,
            "grid_gap": null,
            "grid_row": null,
            "grid_template_areas": null,
            "grid_template_columns": null,
            "grid_template_rows": null,
            "height": null,
            "justify_content": null,
            "justify_items": null,
            "left": null,
            "margin": null,
            "max_height": null,
            "max_width": null,
            "min_height": null,
            "min_width": null,
            "object_fit": null,
            "object_position": null,
            "order": null,
            "overflow": null,
            "overflow_x": null,
            "overflow_y": null,
            "padding": null,
            "right": null,
            "top": null,
            "visibility": null,
            "width": null
          }
        },
        "678376e423d44732ad0577a7e1bac8b3": {
          "model_module": "@jupyter-widgets/controls",
          "model_name": "ProgressStyleModel",
          "model_module_version": "1.5.0",
          "state": {
            "_model_module": "@jupyter-widgets/controls",
            "_model_module_version": "1.5.0",
            "_model_name": "ProgressStyleModel",
            "_view_count": null,
            "_view_module": "@jupyter-widgets/base",
            "_view_module_version": "1.2.0",
            "_view_name": "StyleView",
            "bar_color": null,
            "description_width": ""
          }
        },
        "33b3c18368454912a35fcdebcee76e4b": {
          "model_module": "@jupyter-widgets/base",
          "model_name": "LayoutModel",
          "model_module_version": "1.2.0",
          "state": {
            "_model_module": "@jupyter-widgets/base",
            "_model_module_version": "1.2.0",
            "_model_name": "LayoutModel",
            "_view_count": null,
            "_view_module": "@jupyter-widgets/base",
            "_view_module_version": "1.2.0",
            "_view_name": "LayoutView",
            "align_content": null,
            "align_items": null,
            "align_self": null,
            "border": null,
            "bottom": null,
            "display": null,
            "flex": null,
            "flex_flow": null,
            "grid_area": null,
            "grid_auto_columns": null,
            "grid_auto_flow": null,
            "grid_auto_rows": null,
            "grid_column": null,
            "grid_gap": null,
            "grid_row": null,
            "grid_template_areas": null,
            "grid_template_columns": null,
            "grid_template_rows": null,
            "height": null,
            "justify_content": null,
            "justify_items": null,
            "left": null,
            "margin": null,
            "max_height": null,
            "max_width": null,
            "min_height": null,
            "min_width": null,
            "object_fit": null,
            "object_position": null,
            "order": null,
            "overflow": null,
            "overflow_x": null,
            "overflow_y": null,
            "padding": null,
            "right": null,
            "top": null,
            "visibility": null,
            "width": null
          }
        },
        "ae63f72c458243aa864dfb096582c075": {
          "model_module": "@jupyter-widgets/controls",
          "model_name": "DescriptionStyleModel",
          "model_module_version": "1.5.0",
          "state": {
            "_model_module": "@jupyter-widgets/controls",
            "_model_module_version": "1.5.0",
            "_model_name": "DescriptionStyleModel",
            "_view_count": null,
            "_view_module": "@jupyter-widgets/base",
            "_view_module_version": "1.2.0",
            "_view_name": "StyleView",
            "description_width": ""
          }
        },
        "8cb7f5078aa3493aa4ff93c162eb944a": {
          "model_module": "@jupyter-widgets/controls",
          "model_name": "HBoxModel",
          "model_module_version": "1.5.0",
          "state": {
            "_dom_classes": [],
            "_model_module": "@jupyter-widgets/controls",
            "_model_module_version": "1.5.0",
            "_model_name": "HBoxModel",
            "_view_count": null,
            "_view_module": "@jupyter-widgets/controls",
            "_view_module_version": "1.5.0",
            "_view_name": "HBoxView",
            "box_style": "",
            "children": [
              "IPY_MODEL_b3b6b47f60aa47d6ae3a4f842c604141",
              "IPY_MODEL_7e9a6a03c6524a66a156dbd79068e464",
              "IPY_MODEL_11e390fab7b24d4d9dd28d7096cc90c3"
            ],
            "layout": "IPY_MODEL_f390374cf57f45ff8d8c79a9d3824061"
          }
        },
        "b3b6b47f60aa47d6ae3a4f842c604141": {
          "model_module": "@jupyter-widgets/controls",
          "model_name": "HTMLModel",
          "model_module_version": "1.5.0",
          "state": {
            "_dom_classes": [],
            "_model_module": "@jupyter-widgets/controls",
            "_model_module_version": "1.5.0",
            "_model_name": "HTMLModel",
            "_view_count": null,
            "_view_module": "@jupyter-widgets/controls",
            "_view_module_version": "1.5.0",
            "_view_name": "HTMLView",
            "description": "",
            "description_tooltip": null,
            "layout": "IPY_MODEL_52a85a6c10004dafac389a11aa863eab",
            "placeholder": "​",
            "style": "IPY_MODEL_02121539f34c4226ac639e26032e9d30",
            "value": "vocab.txt: 100%"
          }
        },
        "7e9a6a03c6524a66a156dbd79068e464": {
          "model_module": "@jupyter-widgets/controls",
          "model_name": "FloatProgressModel",
          "model_module_version": "1.5.0",
          "state": {
            "_dom_classes": [],
            "_model_module": "@jupyter-widgets/controls",
            "_model_module_version": "1.5.0",
            "_model_name": "FloatProgressModel",
            "_view_count": null,
            "_view_module": "@jupyter-widgets/controls",
            "_view_module_version": "1.5.0",
            "_view_name": "ProgressView",
            "bar_style": "success",
            "description": "",
            "description_tooltip": null,
            "layout": "IPY_MODEL_6e295a99bd2b4335a0e5ed94d2e9653c",
            "max": 231508,
            "min": 0,
            "orientation": "horizontal",
            "style": "IPY_MODEL_8f4463d4311b4959b2bd0dcc2d3b50c0",
            "value": 231508
          }
        },
        "11e390fab7b24d4d9dd28d7096cc90c3": {
          "model_module": "@jupyter-widgets/controls",
          "model_name": "HTMLModel",
          "model_module_version": "1.5.0",
          "state": {
            "_dom_classes": [],
            "_model_module": "@jupyter-widgets/controls",
            "_model_module_version": "1.5.0",
            "_model_name": "HTMLModel",
            "_view_count": null,
            "_view_module": "@jupyter-widgets/controls",
            "_view_module_version": "1.5.0",
            "_view_name": "HTMLView",
            "description": "",
            "description_tooltip": null,
            "layout": "IPY_MODEL_3002221c0c744c50af7ea9d9622c297f",
            "placeholder": "​",
            "style": "IPY_MODEL_852646f3a3454f8bb1eb4d561fd1fe54",
            "value": " 232k/232k [00:00&lt;00:00, 1.87MB/s]"
          }
        },
        "f390374cf57f45ff8d8c79a9d3824061": {
          "model_module": "@jupyter-widgets/base",
          "model_name": "LayoutModel",
          "model_module_version": "1.2.0",
          "state": {
            "_model_module": "@jupyter-widgets/base",
            "_model_module_version": "1.2.0",
            "_model_name": "LayoutModel",
            "_view_count": null,
            "_view_module": "@jupyter-widgets/base",
            "_view_module_version": "1.2.0",
            "_view_name": "LayoutView",
            "align_content": null,
            "align_items": null,
            "align_self": null,
            "border": null,
            "bottom": null,
            "display": null,
            "flex": null,
            "flex_flow": null,
            "grid_area": null,
            "grid_auto_columns": null,
            "grid_auto_flow": null,
            "grid_auto_rows": null,
            "grid_column": null,
            "grid_gap": null,
            "grid_row": null,
            "grid_template_areas": null,
            "grid_template_columns": null,
            "grid_template_rows": null,
            "height": null,
            "justify_content": null,
            "justify_items": null,
            "left": null,
            "margin": null,
            "max_height": null,
            "max_width": null,
            "min_height": null,
            "min_width": null,
            "object_fit": null,
            "object_position": null,
            "order": null,
            "overflow": null,
            "overflow_x": null,
            "overflow_y": null,
            "padding": null,
            "right": null,
            "top": null,
            "visibility": null,
            "width": null
          }
        },
        "52a85a6c10004dafac389a11aa863eab": {
          "model_module": "@jupyter-widgets/base",
          "model_name": "LayoutModel",
          "model_module_version": "1.2.0",
          "state": {
            "_model_module": "@jupyter-widgets/base",
            "_model_module_version": "1.2.0",
            "_model_name": "LayoutModel",
            "_view_count": null,
            "_view_module": "@jupyter-widgets/base",
            "_view_module_version": "1.2.0",
            "_view_name": "LayoutView",
            "align_content": null,
            "align_items": null,
            "align_self": null,
            "border": null,
            "bottom": null,
            "display": null,
            "flex": null,
            "flex_flow": null,
            "grid_area": null,
            "grid_auto_columns": null,
            "grid_auto_flow": null,
            "grid_auto_rows": null,
            "grid_column": null,
            "grid_gap": null,
            "grid_row": null,
            "grid_template_areas": null,
            "grid_template_columns": null,
            "grid_template_rows": null,
            "height": null,
            "justify_content": null,
            "justify_items": null,
            "left": null,
            "margin": null,
            "max_height": null,
            "max_width": null,
            "min_height": null,
            "min_width": null,
            "object_fit": null,
            "object_position": null,
            "order": null,
            "overflow": null,
            "overflow_x": null,
            "overflow_y": null,
            "padding": null,
            "right": null,
            "top": null,
            "visibility": null,
            "width": null
          }
        },
        "02121539f34c4226ac639e26032e9d30": {
          "model_module": "@jupyter-widgets/controls",
          "model_name": "DescriptionStyleModel",
          "model_module_version": "1.5.0",
          "state": {
            "_model_module": "@jupyter-widgets/controls",
            "_model_module_version": "1.5.0",
            "_model_name": "DescriptionStyleModel",
            "_view_count": null,
            "_view_module": "@jupyter-widgets/base",
            "_view_module_version": "1.2.0",
            "_view_name": "StyleView",
            "description_width": ""
          }
        },
        "6e295a99bd2b4335a0e5ed94d2e9653c": {
          "model_module": "@jupyter-widgets/base",
          "model_name": "LayoutModel",
          "model_module_version": "1.2.0",
          "state": {
            "_model_module": "@jupyter-widgets/base",
            "_model_module_version": "1.2.0",
            "_model_name": "LayoutModel",
            "_view_count": null,
            "_view_module": "@jupyter-widgets/base",
            "_view_module_version": "1.2.0",
            "_view_name": "LayoutView",
            "align_content": null,
            "align_items": null,
            "align_self": null,
            "border": null,
            "bottom": null,
            "display": null,
            "flex": null,
            "flex_flow": null,
            "grid_area": null,
            "grid_auto_columns": null,
            "grid_auto_flow": null,
            "grid_auto_rows": null,
            "grid_column": null,
            "grid_gap": null,
            "grid_row": null,
            "grid_template_areas": null,
            "grid_template_columns": null,
            "grid_template_rows": null,
            "height": null,
            "justify_content": null,
            "justify_items": null,
            "left": null,
            "margin": null,
            "max_height": null,
            "max_width": null,
            "min_height": null,
            "min_width": null,
            "object_fit": null,
            "object_position": null,
            "order": null,
            "overflow": null,
            "overflow_x": null,
            "overflow_y": null,
            "padding": null,
            "right": null,
            "top": null,
            "visibility": null,
            "width": null
          }
        },
        "8f4463d4311b4959b2bd0dcc2d3b50c0": {
          "model_module": "@jupyter-widgets/controls",
          "model_name": "ProgressStyleModel",
          "model_module_version": "1.5.0",
          "state": {
            "_model_module": "@jupyter-widgets/controls",
            "_model_module_version": "1.5.0",
            "_model_name": "ProgressStyleModel",
            "_view_count": null,
            "_view_module": "@jupyter-widgets/base",
            "_view_module_version": "1.2.0",
            "_view_name": "StyleView",
            "bar_color": null,
            "description_width": ""
          }
        },
        "3002221c0c744c50af7ea9d9622c297f": {
          "model_module": "@jupyter-widgets/base",
          "model_name": "LayoutModel",
          "model_module_version": "1.2.0",
          "state": {
            "_model_module": "@jupyter-widgets/base",
            "_model_module_version": "1.2.0",
            "_model_name": "LayoutModel",
            "_view_count": null,
            "_view_module": "@jupyter-widgets/base",
            "_view_module_version": "1.2.0",
            "_view_name": "LayoutView",
            "align_content": null,
            "align_items": null,
            "align_self": null,
            "border": null,
            "bottom": null,
            "display": null,
            "flex": null,
            "flex_flow": null,
            "grid_area": null,
            "grid_auto_columns": null,
            "grid_auto_flow": null,
            "grid_auto_rows": null,
            "grid_column": null,
            "grid_gap": null,
            "grid_row": null,
            "grid_template_areas": null,
            "grid_template_columns": null,
            "grid_template_rows": null,
            "height": null,
            "justify_content": null,
            "justify_items": null,
            "left": null,
            "margin": null,
            "max_height": null,
            "max_width": null,
            "min_height": null,
            "min_width": null,
            "object_fit": null,
            "object_position": null,
            "order": null,
            "overflow": null,
            "overflow_x": null,
            "overflow_y": null,
            "padding": null,
            "right": null,
            "top": null,
            "visibility": null,
            "width": null
          }
        },
        "852646f3a3454f8bb1eb4d561fd1fe54": {
          "model_module": "@jupyter-widgets/controls",
          "model_name": "DescriptionStyleModel",
          "model_module_version": "1.5.0",
          "state": {
            "_model_module": "@jupyter-widgets/controls",
            "_model_module_version": "1.5.0",
            "_model_name": "DescriptionStyleModel",
            "_view_count": null,
            "_view_module": "@jupyter-widgets/base",
            "_view_module_version": "1.2.0",
            "_view_name": "StyleView",
            "description_width": ""
          }
        },
        "49e1e513aa444a5095525cee129a8e38": {
          "model_module": "@jupyter-widgets/controls",
          "model_name": "HBoxModel",
          "model_module_version": "1.5.0",
          "state": {
            "_dom_classes": [],
            "_model_module": "@jupyter-widgets/controls",
            "_model_module_version": "1.5.0",
            "_model_name": "HBoxModel",
            "_view_count": null,
            "_view_module": "@jupyter-widgets/controls",
            "_view_module_version": "1.5.0",
            "_view_name": "HBoxView",
            "box_style": "",
            "children": [
              "IPY_MODEL_3383234e4d96498785b96a5809c32573",
              "IPY_MODEL_3ea3edff03244e1e9fae9cbc97057d03",
              "IPY_MODEL_352291cee5df4ed18857c63742c4a5f5"
            ],
            "layout": "IPY_MODEL_1ec8b4b912fe4b8eb09fd6f1c1ab88ff"
          }
        },
        "3383234e4d96498785b96a5809c32573": {
          "model_module": "@jupyter-widgets/controls",
          "model_name": "HTMLModel",
          "model_module_version": "1.5.0",
          "state": {
            "_dom_classes": [],
            "_model_module": "@jupyter-widgets/controls",
            "_model_module_version": "1.5.0",
            "_model_name": "HTMLModel",
            "_view_count": null,
            "_view_module": "@jupyter-widgets/controls",
            "_view_module_version": "1.5.0",
            "_view_name": "HTMLView",
            "description": "",
            "description_tooltip": null,
            "layout": "IPY_MODEL_34c6a932f3b14dffb59ebed00cc57ee9",
            "placeholder": "​",
            "style": "IPY_MODEL_fcdee8c14b8c46c385fbccb2504e64d8",
            "value": "pytorch_model.bin: 100%"
          }
        },
        "3ea3edff03244e1e9fae9cbc97057d03": {
          "model_module": "@jupyter-widgets/controls",
          "model_name": "FloatProgressModel",
          "model_module_version": "1.5.0",
          "state": {
            "_dom_classes": [],
            "_model_module": "@jupyter-widgets/controls",
            "_model_module_version": "1.5.0",
            "_model_name": "FloatProgressModel",
            "_view_count": null,
            "_view_module": "@jupyter-widgets/controls",
            "_view_module_version": "1.5.0",
            "_view_name": "ProgressView",
            "bar_style": "success",
            "description": "",
            "description_tooltip": null,
            "layout": "IPY_MODEL_d5910d0324084cb9966588d9a5e898b2",
            "max": 62747391,
            "min": 0,
            "orientation": "horizontal",
            "style": "IPY_MODEL_a269084ffd654c14afc13e2349ef13ee",
            "value": 62747391
          }
        },
        "352291cee5df4ed18857c63742c4a5f5": {
          "model_module": "@jupyter-widgets/controls",
          "model_name": "HTMLModel",
          "model_module_version": "1.5.0",
          "state": {
            "_dom_classes": [],
            "_model_module": "@jupyter-widgets/controls",
            "_model_module_version": "1.5.0",
            "_model_name": "HTMLModel",
            "_view_count": null,
            "_view_module": "@jupyter-widgets/controls",
            "_view_module_version": "1.5.0",
            "_view_name": "HTMLView",
            "description": "",
            "description_tooltip": null,
            "layout": "IPY_MODEL_92a87056c5fd476ab19bec124804d510",
            "placeholder": "​",
            "style": "IPY_MODEL_5d0ef963d53e42599ad04bbe23dfdc7b",
            "value": " 62.7M/62.7M [00:01&lt;00:00, 63.5MB/s]"
          }
        },
        "1ec8b4b912fe4b8eb09fd6f1c1ab88ff": {
          "model_module": "@jupyter-widgets/base",
          "model_name": "LayoutModel",
          "model_module_version": "1.2.0",
          "state": {
            "_model_module": "@jupyter-widgets/base",
            "_model_module_version": "1.2.0",
            "_model_name": "LayoutModel",
            "_view_count": null,
            "_view_module": "@jupyter-widgets/base",
            "_view_module_version": "1.2.0",
            "_view_name": "LayoutView",
            "align_content": null,
            "align_items": null,
            "align_self": null,
            "border": null,
            "bottom": null,
            "display": null,
            "flex": null,
            "flex_flow": null,
            "grid_area": null,
            "grid_auto_columns": null,
            "grid_auto_flow": null,
            "grid_auto_rows": null,
            "grid_column": null,
            "grid_gap": null,
            "grid_row": null,
            "grid_template_areas": null,
            "grid_template_columns": null,
            "grid_template_rows": null,
            "height": null,
            "justify_content": null,
            "justify_items": null,
            "left": null,
            "margin": null,
            "max_height": null,
            "max_width": null,
            "min_height": null,
            "min_width": null,
            "object_fit": null,
            "object_position": null,
            "order": null,
            "overflow": null,
            "overflow_x": null,
            "overflow_y": null,
            "padding": null,
            "right": null,
            "top": null,
            "visibility": null,
            "width": null
          }
        },
        "34c6a932f3b14dffb59ebed00cc57ee9": {
          "model_module": "@jupyter-widgets/base",
          "model_name": "LayoutModel",
          "model_module_version": "1.2.0",
          "state": {
            "_model_module": "@jupyter-widgets/base",
            "_model_module_version": "1.2.0",
            "_model_name": "LayoutModel",
            "_view_count": null,
            "_view_module": "@jupyter-widgets/base",
            "_view_module_version": "1.2.0",
            "_view_name": "LayoutView",
            "align_content": null,
            "align_items": null,
            "align_self": null,
            "border": null,
            "bottom": null,
            "display": null,
            "flex": null,
            "flex_flow": null,
            "grid_area": null,
            "grid_auto_columns": null,
            "grid_auto_flow": null,
            "grid_auto_rows": null,
            "grid_column": null,
            "grid_gap": null,
            "grid_row": null,
            "grid_template_areas": null,
            "grid_template_columns": null,
            "grid_template_rows": null,
            "height": null,
            "justify_content": null,
            "justify_items": null,
            "left": null,
            "margin": null,
            "max_height": null,
            "max_width": null,
            "min_height": null,
            "min_width": null,
            "object_fit": null,
            "object_position": null,
            "order": null,
            "overflow": null,
            "overflow_x": null,
            "overflow_y": null,
            "padding": null,
            "right": null,
            "top": null,
            "visibility": null,
            "width": null
          }
        },
        "fcdee8c14b8c46c385fbccb2504e64d8": {
          "model_module": "@jupyter-widgets/controls",
          "model_name": "DescriptionStyleModel",
          "model_module_version": "1.5.0",
          "state": {
            "_model_module": "@jupyter-widgets/controls",
            "_model_module_version": "1.5.0",
            "_model_name": "DescriptionStyleModel",
            "_view_count": null,
            "_view_module": "@jupyter-widgets/base",
            "_view_module_version": "1.2.0",
            "_view_name": "StyleView",
            "description_width": ""
          }
        },
        "d5910d0324084cb9966588d9a5e898b2": {
          "model_module": "@jupyter-widgets/base",
          "model_name": "LayoutModel",
          "model_module_version": "1.2.0",
          "state": {
            "_model_module": "@jupyter-widgets/base",
            "_model_module_version": "1.2.0",
            "_model_name": "LayoutModel",
            "_view_count": null,
            "_view_module": "@jupyter-widgets/base",
            "_view_module_version": "1.2.0",
            "_view_name": "LayoutView",
            "align_content": null,
            "align_items": null,
            "align_self": null,
            "border": null,
            "bottom": null,
            "display": null,
            "flex": null,
            "flex_flow": null,
            "grid_area": null,
            "grid_auto_columns": null,
            "grid_auto_flow": null,
            "grid_auto_rows": null,
            "grid_column": null,
            "grid_gap": null,
            "grid_row": null,
            "grid_template_areas": null,
            "grid_template_columns": null,
            "grid_template_rows": null,
            "height": null,
            "justify_content": null,
            "justify_items": null,
            "left": null,
            "margin": null,
            "max_height": null,
            "max_width": null,
            "min_height": null,
            "min_width": null,
            "object_fit": null,
            "object_position": null,
            "order": null,
            "overflow": null,
            "overflow_x": null,
            "overflow_y": null,
            "padding": null,
            "right": null,
            "top": null,
            "visibility": null,
            "width": null
          }
        },
        "a269084ffd654c14afc13e2349ef13ee": {
          "model_module": "@jupyter-widgets/controls",
          "model_name": "ProgressStyleModel",
          "model_module_version": "1.5.0",
          "state": {
            "_model_module": "@jupyter-widgets/controls",
            "_model_module_version": "1.5.0",
            "_model_name": "ProgressStyleModel",
            "_view_count": null,
            "_view_module": "@jupyter-widgets/base",
            "_view_module_version": "1.2.0",
            "_view_name": "StyleView",
            "bar_color": null,
            "description_width": ""
          }
        },
        "92a87056c5fd476ab19bec124804d510": {
          "model_module": "@jupyter-widgets/base",
          "model_name": "LayoutModel",
          "model_module_version": "1.2.0",
          "state": {
            "_model_module": "@jupyter-widgets/base",
            "_model_module_version": "1.2.0",
            "_model_name": "LayoutModel",
            "_view_count": null,
            "_view_module": "@jupyter-widgets/base",
            "_view_module_version": "1.2.0",
            "_view_name": "LayoutView",
            "align_content": null,
            "align_items": null,
            "align_self": null,
            "border": null,
            "bottom": null,
            "display": null,
            "flex": null,
            "flex_flow": null,
            "grid_area": null,
            "grid_auto_columns": null,
            "grid_auto_flow": null,
            "grid_auto_rows": null,
            "grid_column": null,
            "grid_gap": null,
            "grid_row": null,
            "grid_template_areas": null,
            "grid_template_columns": null,
            "grid_template_rows": null,
            "height": null,
            "justify_content": null,
            "justify_items": null,
            "left": null,
            "margin": null,
            "max_height": null,
            "max_width": null,
            "min_height": null,
            "min_width": null,
            "object_fit": null,
            "object_position": null,
            "order": null,
            "overflow": null,
            "overflow_x": null,
            "overflow_y": null,
            "padding": null,
            "right": null,
            "top": null,
            "visibility": null,
            "width": null
          }
        },
        "5d0ef963d53e42599ad04bbe23dfdc7b": {
          "model_module": "@jupyter-widgets/controls",
          "model_name": "DescriptionStyleModel",
          "model_module_version": "1.5.0",
          "state": {
            "_model_module": "@jupyter-widgets/controls",
            "_model_module_version": "1.5.0",
            "_model_name": "DescriptionStyleModel",
            "_view_count": null,
            "_view_module": "@jupyter-widgets/base",
            "_view_module_version": "1.2.0",
            "_view_name": "StyleView",
            "description_width": ""
          }
        }
      }
    }
  },
  "cells": [
    {
      "cell_type": "markdown",
      "source": [
        "## Install needed libaries"
      ],
      "metadata": {
        "id": "4etMe_MhQp4Q"
      }
    },
    {
      "cell_type": "code",
      "execution_count": 1,
      "metadata": {
        "colab": {
          "base_uri": "https://localhost:8080/"
        },
        "id": "WuprVlKE8-Lg",
        "outputId": "0653afa5-03fa-41be-f6c0-6719703ec52a"
      },
      "outputs": [
        {
          "output_type": "stream",
          "name": "stdout",
          "text": [
            "Requirement already satisfied: transformers in /usr/local/lib/python3.10/dist-packages (4.46.3)\n",
            "Requirement already satisfied: torch in /usr/local/lib/python3.10/dist-packages (2.5.1+cu121)\n",
            "Requirement already satisfied: scikit-learn in /usr/local/lib/python3.10/dist-packages (1.5.2)\n",
            "Requirement already satisfied: pandas in /usr/local/lib/python3.10/dist-packages (2.2.2)\n",
            "Requirement already satisfied: matplotlib in /usr/local/lib/python3.10/dist-packages (3.8.0)\n",
            "Requirement already satisfied: filelock in /usr/local/lib/python3.10/dist-packages (from transformers) (3.16.1)\n",
            "Requirement already satisfied: huggingface-hub<1.0,>=0.23.2 in /usr/local/lib/python3.10/dist-packages (from transformers) (0.26.3)\n",
            "Requirement already satisfied: numpy>=1.17 in /usr/local/lib/python3.10/dist-packages (from transformers) (1.26.4)\n",
            "Requirement already satisfied: packaging>=20.0 in /usr/local/lib/python3.10/dist-packages (from transformers) (24.2)\n",
            "Requirement already satisfied: pyyaml>=5.1 in /usr/local/lib/python3.10/dist-packages (from transformers) (6.0.2)\n",
            "Requirement already satisfied: regex!=2019.12.17 in /usr/local/lib/python3.10/dist-packages (from transformers) (2024.9.11)\n",
            "Requirement already satisfied: requests in /usr/local/lib/python3.10/dist-packages (from transformers) (2.32.3)\n",
            "Requirement already satisfied: tokenizers<0.21,>=0.20 in /usr/local/lib/python3.10/dist-packages (from transformers) (0.20.3)\n",
            "Requirement already satisfied: safetensors>=0.4.1 in /usr/local/lib/python3.10/dist-packages (from transformers) (0.4.5)\n",
            "Requirement already satisfied: tqdm>=4.27 in /usr/local/lib/python3.10/dist-packages (from transformers) (4.66.6)\n",
            "Requirement already satisfied: typing-extensions>=4.8.0 in /usr/local/lib/python3.10/dist-packages (from torch) (4.12.2)\n",
            "Requirement already satisfied: networkx in /usr/local/lib/python3.10/dist-packages (from torch) (3.4.2)\n",
            "Requirement already satisfied: jinja2 in /usr/local/lib/python3.10/dist-packages (from torch) (3.1.4)\n",
            "Requirement already satisfied: fsspec in /usr/local/lib/python3.10/dist-packages (from torch) (2024.10.0)\n",
            "Requirement already satisfied: sympy==1.13.1 in /usr/local/lib/python3.10/dist-packages (from torch) (1.13.1)\n",
            "Requirement already satisfied: mpmath<1.4,>=1.1.0 in /usr/local/lib/python3.10/dist-packages (from sympy==1.13.1->torch) (1.3.0)\n",
            "Requirement already satisfied: scipy>=1.6.0 in /usr/local/lib/python3.10/dist-packages (from scikit-learn) (1.13.1)\n",
            "Requirement already satisfied: joblib>=1.2.0 in /usr/local/lib/python3.10/dist-packages (from scikit-learn) (1.4.2)\n",
            "Requirement already satisfied: threadpoolctl>=3.1.0 in /usr/local/lib/python3.10/dist-packages (from scikit-learn) (3.5.0)\n",
            "Requirement already satisfied: python-dateutil>=2.8.2 in /usr/local/lib/python3.10/dist-packages (from pandas) (2.8.2)\n",
            "Requirement already satisfied: pytz>=2020.1 in /usr/local/lib/python3.10/dist-packages (from pandas) (2024.2)\n",
            "Requirement already satisfied: tzdata>=2022.7 in /usr/local/lib/python3.10/dist-packages (from pandas) (2024.2)\n",
            "Requirement already satisfied: contourpy>=1.0.1 in /usr/local/lib/python3.10/dist-packages (from matplotlib) (1.3.1)\n",
            "Requirement already satisfied: cycler>=0.10 in /usr/local/lib/python3.10/dist-packages (from matplotlib) (0.12.1)\n",
            "Requirement already satisfied: fonttools>=4.22.0 in /usr/local/lib/python3.10/dist-packages (from matplotlib) (4.55.1)\n",
            "Requirement already satisfied: kiwisolver>=1.0.1 in /usr/local/lib/python3.10/dist-packages (from matplotlib) (1.4.7)\n",
            "Requirement already satisfied: pillow>=6.2.0 in /usr/local/lib/python3.10/dist-packages (from matplotlib) (11.0.0)\n",
            "Requirement already satisfied: pyparsing>=2.3.1 in /usr/local/lib/python3.10/dist-packages (from matplotlib) (3.2.0)\n",
            "Requirement already satisfied: six>=1.5 in /usr/local/lib/python3.10/dist-packages (from python-dateutil>=2.8.2->pandas) (1.16.0)\n",
            "Requirement already satisfied: MarkupSafe>=2.0 in /usr/local/lib/python3.10/dist-packages (from jinja2->torch) (3.0.2)\n",
            "Requirement already satisfied: charset-normalizer<4,>=2 in /usr/local/lib/python3.10/dist-packages (from requests->transformers) (3.4.0)\n",
            "Requirement already satisfied: idna<4,>=2.5 in /usr/local/lib/python3.10/dist-packages (from requests->transformers) (3.10)\n",
            "Requirement already satisfied: urllib3<3,>=1.21.1 in /usr/local/lib/python3.10/dist-packages (from requests->transformers) (2.2.3)\n",
            "Requirement already satisfied: certifi>=2017.4.17 in /usr/local/lib/python3.10/dist-packages (from requests->transformers) (2024.8.30)\n"
          ]
        }
      ],
      "source": [
        "!pip install transformers torch scikit-learn pandas matplotlib\n"
      ]
    },
    {
      "cell_type": "code",
      "source": [
        "import torch\n",
        "from torch.utils.data import DataLoader, Dataset\n",
        "from transformers import AutoTokenizer, AutoModel\n",
        "import pandas as pd\n",
        "import numpy as np\n",
        "from sklearn.model_selection import train_test_split\n",
        "import torch.nn as nn\n",
        "import torch.optim as optim\n",
        "from sklearn.metrics import accuracy_score, confusion_matrix, ConfusionMatrixDisplay\n",
        "import matplotlib.pyplot as plt\n"
      ],
      "metadata": {
        "id": "p554OJqh9S6Z"
      },
      "execution_count": 2,
      "outputs": []
    },
    {
      "cell_type": "markdown",
      "source": [
        "# Import data\n"
      ],
      "metadata": {
        "id": "X3A8ZjINaBYJ"
      }
    },
    {
      "cell_type": "code",
      "source": [
        "# Load the dataset\n",
        "file_path = '/content/train-00000-of-00001 (1).parquet'\n",
        "df = pd.read_parquet(file_path)\n",
        "\n",
        "# Inspect the dataset\n",
        "print(\"Dataset Shape:\", df.shape)\n",
        "print(df.head())\n",
        "\n",
        "# Extract texts and labels\n",
        "texts = df['text'].tolist()\n",
        "labels = df['label'].tolist()\n"
      ],
      "metadata": {
        "colab": {
          "base_uri": "https://localhost:8080/"
        },
        "id": "NdXlv0H79U93",
        "outputId": "d9dc243d-8a02-495a-96aa-1f83d3022783"
      },
      "execution_count": 3,
      "outputs": [
        {
          "output_type": "stream",
          "name": "stdout",
          "text": [
            "Dataset Shape: (416809, 2)\n",
            "                                                text  label\n",
            "0  i feel awful about it too because it s my job ...      0\n",
            "1                              im alone i feel awful      0\n",
            "2  ive probably mentioned this before but i reall...      1\n",
            "3           i was feeling a little low few days back      0\n",
            "4  i beleive that i am much more sensitive to oth...      2\n"
          ]
        }
      ]
    },
    {
      "cell_type": "markdown",
      "source": [
        "# Exploratory Analysis"
      ],
      "metadata": {
        "id": "epCbseT4Qu-b"
      }
    },
    {
      "cell_type": "markdown",
      "source": [
        "check if there is any missing value."
      ],
      "metadata": {
        "id": "u3fHCDt91XiI"
      }
    },
    {
      "cell_type": "code",
      "source": [
        "print(\"Missing values per column:\")\n",
        "print(df.isnull().sum())\n"
      ],
      "metadata": {
        "colab": {
          "base_uri": "https://localhost:8080/"
        },
        "id": "2lfRlpZXSgLe",
        "outputId": "a4886d00-8f61-4cd2-8214-f1257a7f944a"
      },
      "execution_count": 4,
      "outputs": [
        {
          "output_type": "stream",
          "name": "stdout",
          "text": [
            "Missing values per column:\n",
            "text     0\n",
            "label    0\n",
            "dtype: int64\n"
          ]
        }
      ]
    },
    {
      "cell_type": "markdown",
      "source": [
        "check the distribution of the labels."
      ],
      "metadata": {
        "id": "IXKQ_ZJW1dSa"
      }
    },
    {
      "cell_type": "code",
      "source": [
        "\n",
        "import seaborn as sns\n",
        "\n",
        "# Count the number of samples for each label\n",
        "label_counts = df['label'].value_counts()\n",
        "\n",
        "# Plot the class distribution\n",
        "sns.barplot(x=label_counts.index, y=label_counts.values)\n",
        "plt.title(\"Class Distribution\")\n",
        "plt.xlabel(\"Labels\")\n",
        "plt.ylabel(\"Number of Samples\")\n",
        "plt.show()\n",
        "\n",
        "# Print the actual counts\n",
        "print(\"Class Distribution:\\n\", label_counts)\n"
      ],
      "metadata": {
        "colab": {
          "base_uri": "https://localhost:8080/",
          "height": 633
        },
        "id": "jCeByJN8QuQa",
        "outputId": "1275db2e-4e70-47b8-951d-d33d861a9e75"
      },
      "execution_count": 5,
      "outputs": [
        {
          "output_type": "display_data",
          "data": {
            "text/plain": [
              "<Figure size 640x480 with 1 Axes>"
            ],
            "image/png": "[encoded data removed]"
          },
          "metadata": {}
        },
        {
          "output_type": "stream",
          "name": "stdout",
          "text": [
            "Class Distribution:\n",
            " label\n",
            "1    141067\n",
            "0    121187\n",
            "3     57317\n",
            "4     47712\n",
            "2     34554\n",
            "5     14972\n",
            "Name: count, dtype: int64\n"
          ]
        }
      ]
    },
    {
      "cell_type": "markdown",
      "source": [
        "descriptive analysis."
      ],
      "metadata": {
        "id": "7qpBt9zy1pQh"
      }
    },
    {
      "cell_type": "code",
      "source": [
        "# Calculate text lengths\n",
        "text_lengths = df['text'].apply(len)\n",
        "\n",
        "# Basic statistics\n",
        "print(\"Text length stats:\")\n",
        "print(text_lengths.describe())\n",
        "\n",
        "# Plot histogram\n",
        "sns.histplot(text_lengths, bins=30, kde=True)\n",
        "plt.title(\"Text Length Distribution\")\n",
        "plt.xlabel(\"Number of Characters\")\n",
        "plt.ylabel(\"Frequency\")\n",
        "plt.show()\n"
      ],
      "metadata": {
        "colab": {
          "base_uri": "https://localhost:8080/",
          "height": 651
        },
        "id": "shsAJM1gR75r",
        "outputId": "9c0f6200-e3b6-492a-fbdd-b0f5e7f3881c"
      },
      "execution_count": 6,
      "outputs": [
        {
          "output_type": "stream",
          "name": "stdout",
          "text": [
            "Text length stats:\n",
            "count    416809.000000\n",
            "mean         97.028397\n",
            "std          56.198232\n",
            "min           2.000000\n",
            "25%          54.000000\n",
            "50%          86.000000\n",
            "75%         128.000000\n",
            "max         830.000000\n",
            "Name: text, dtype: float64\n"
          ]
        },
        {
          "output_type": "display_data",
          "data": {
            "text/plain": [
              "<Figure size 640x480 with 1 Axes>"
            ],
            "image/png": "[encoded data removed]"
          },
          "metadata": {}
        }
      ]
    },
    {
      "cell_type": "markdown",
      "source": [
        "# Data preparation"
      ],
      "metadata": {
        "id": "0zpnsbUZ15kU"
      }
    },
    {
      "cell_type": "code",
      "source": [
        "# Use x% of the data for experimentation\n",
        "df_sample = df.sample(frac=0.1, random_state=42)\n",
        "texts = df_sample['text'].tolist()\n",
        "labels = df_sample['label'].tolist()\n",
        "\n",
        "print(f\"Using {len(texts)} samples for feature extraction.\")\n",
        "\n"
      ],
      "metadata": {
        "colab": {
          "base_uri": "https://localhost:8080/"
        },
        "id": "78PkIQMC9W5A",
        "outputId": "a23c0d09-7860-4ad7-ee4b-510c79af20ed"
      },
      "execution_count": 7,
      "outputs": [
        {
          "output_type": "stream",
          "name": "stdout",
          "text": [
            "Using 41681 samples for feature extraction.\n"
          ]
        }
      ]
    },
    {
      "cell_type": "code",
      "source": [
        "# Train-test split\n",
        "train_texts, temp_texts, train_labels, temp_labels = train_test_split(\n",
        "    texts, labels, test_size=0.2, stratify=labels, random_state=42\n",
        ")\n",
        "# Validation-test split\n",
        "val_texts, test_texts, val_labels, test_labels = train_test_split(\n",
        "    temp_texts, temp_labels, test_size=0.5, stratify=temp_labels, random_state=42\n",
        ")\n",
        "\n",
        "print(f\"Train: {len(train_texts)}, Validation: {len(val_texts)}, Test: {len(test_texts)}\")\n"
      ],
      "metadata": {
        "colab": {
          "base_uri": "https://localhost:8080/"
        },
        "id": "AiX-jfmG9Y-a",
        "outputId": "2eb276f8-2456-475b-bbd1-95a96c91e1b2"
      },
      "execution_count": 8,
      "outputs": [
        {
          "output_type": "stream",
          "name": "stdout",
          "text": [
            "Train: 33344, Validation: 4168, Test: 4169\n"
          ]
        }
      ]
    },
    {
      "cell_type": "code",
      "source": [
        "# Load ALBERT tokenizer and model\n",
        "model_name = \"huawei-noah/TinyBERT_General_4L_312D\" ##pre trained model\n",
        "tokenizer = AutoTokenizer.from_pretrained(model_name)\n",
        "albert_model = AutoModel.from_pretrained(model_name)\n",
        "albert_model.eval()  # Set the model to evaluation mode"
      ],
      "metadata": {
        "colab": {
          "base_uri": "https://localhost:8080/",
          "height": 972,
          "referenced_widgets": [
            "cd50d26aaa5f41deb865ae39409d0b06",
            "f355ab64cb2c4bcebbebb749c508a02c",
            "312d03287e99453c8a3231b97b8795ee",
            "c3f32582437c4ab99317176fe09cfa35",
            "8d5bafc662bc4dd6bce73fbc84435c94",
            "1bc2748db021497fbca85b7c32184f8a",
            "7d820830a46c440491d19f33462aed41",
            "e02c28c70e57425ea5aedfe881593341",
            "678376e423d44732ad0577a7e1bac8b3",
            "33b3c18368454912a35fcdebcee76e4b",
            "ae63f72c458243aa864dfb096582c075",
            "8cb7f5078aa3493aa4ff93c162eb944a",
            "b3b6b47f60aa47d6ae3a4f842c604141",
            "7e9a6a03c6524a66a156dbd79068e464",
            "11e390fab7b24d4d9dd28d7096cc90c3",
            "f390374cf57f45ff8d8c79a9d3824061",
            "52a85a6c10004dafac389a11aa863eab",
            "02121539f34c4226ac639e26032e9d30",
            "6e295a99bd2b4335a0e5ed94d2e9653c",
            "8f4463d4311b4959b2bd0dcc2d3b50c0",
            "3002221c0c744c50af7ea9d9622c297f",
            "852646f3a3454f8bb1eb4d561fd1fe54",
            "49e1e513aa444a5095525cee129a8e38",
            "3383234e4d96498785b96a5809c32573",
            "3ea3edff03244e1e9fae9cbc97057d03",
            "352291cee5df4ed18857c63742c4a5f5",
            "1ec8b4b912fe4b8eb09fd6f1c1ab88ff",
            "34c6a932f3b14dffb59ebed00cc57ee9",
            "fcdee8c14b8c46c385fbccb2504e64d8",
            "d5910d0324084cb9966588d9a5e898b2",
            "a269084ffd654c14afc13e2349ef13ee",
            "92a87056c5fd476ab19bec124804d510",
            "5d0ef963d53e42599ad04bbe23dfdc7b"
          ]
        },
        "id": "lJ7UJXry9alb",
        "outputId": "28f088eb-7b25-4881-828c-9a59983b3596"
      },
      "execution_count": 9,
      "outputs": [
        {
          "output_type": "stream",
          "name": "stderr",
          "text": [
            "/usr/local/lib/python3.10/dist-packages/huggingface_hub/utils/_auth.py:94: UserWarning: \n",
            "The secret `HF_TOKEN` does not exist in your Colab secrets.\n",
            "To authenticate with the Hugging Face Hub, create a token in your settings tab (https://huggingface.co/settings/tokens), set it as secret in your Google Colab and restart your session.\n",
            "You will be able to reuse this secret in all of your notebooks.\n",
            "Please note that authentication is recommended but still optional to access public models or datasets.\n",
            "  warnings.warn(\n"
          ]
        },
        {
          "output_type": "display_data",
          "data": {
            "text/plain": [
              "config.json:   0%|          | 0.00/409 [00:00<?, ?B/s]"
            ],
            "application/vnd.jupyter.widget-view+json": {
              "version_major": 2,
              "version_minor": 0,
              "model_id": "cd50d26aaa5f41deb865ae39409d0b06"
            }
          },
          "metadata": {}
        },
        {
          "output_type": "display_data",
          "data": {
            "text/plain": [
              "vocab.txt:   0%|          | 0.00/232k [00:00<?, ?B/s]"
            ],
            "application/vnd.jupyter.widget-view+json": {
              "version_major": 2,
              "version_minor": 0,
              "model_id": "8cb7f5078aa3493aa4ff93c162eb944a"
            }
          },
          "metadata": {}
        },
        {
          "output_type": "display_data",
          "data": {
            "text/plain": [
              "pytorch_model.bin:   0%|          | 0.00/62.7M [00:00<?, ?B/s]"
            ],
            "application/vnd.jupyter.widget-view+json": {
              "version_major": 2,
              "version_minor": 0,
              "model_id": "49e1e513aa444a5095525cee129a8e38"
            }
          },
          "metadata": {}
        },
        {
          "output_type": "execute_result",
          "data": {
            "text/plain": [
              "BertModel(\n",
              "  (embeddings): BertEmbeddings(\n",
              "    (word_embeddings): Embedding(30522, 312, padding_idx=0)\n",
              "    (position_embeddings): Embedding(512, 312)\n",
              "    (token_type_embeddings): Embedding(2, 312)\n",
              "    (LayerNorm): LayerNorm((312,), eps=1e-12, elementwise_affine=True)\n",
              "    (dropout): Dropout(p=0.1, inplace=False)\n",
              "  )\n",
              "  (encoder): BertEncoder(\n",
              "    (layer): ModuleList(\n",
              "      (0-3): 4 x BertLayer(\n",
              "        (attention): BertAttention(\n",
              "          (self): BertSdpaSelfAttention(\n",
              "            (query): Linear(in_features=312, out_features=312, bias=True)\n",
              "            (key): Linear(in_features=312, out_features=312, bias=True)\n",
              "            (value): Linear(in_features=312, out_features=312, bias=True)\n",
              "            (dropout): Dropout(p=0.1, inplace=False)\n",
              "          )\n",
              "          (output): BertSelfOutput(\n",
              "            (dense): Linear(in_features=312, out_features=312, bias=True)\n",
              "            (LayerNorm): LayerNorm((312,), eps=1e-12, elementwise_affine=True)\n",
              "            (dropout): Dropout(p=0.1, inplace=False)\n",
              "          )\n",
              "        )\n",
              "        (intermediate): BertIntermediate(\n",
              "          (dense): Linear(in_features=312, out_features=1200, bias=True)\n",
              "          (intermediate_act_fn): GELUActivation()\n",
              "        )\n",
              "        (output): BertOutput(\n",
              "          (dense): Linear(in_features=1200, out_features=312, bias=True)\n",
              "          (LayerNorm): LayerNorm((312,), eps=1e-12, elementwise_affine=True)\n",
              "          (dropout): Dropout(p=0.1, inplace=False)\n",
              "        )\n",
              "      )\n",
              "    )\n",
              "  )\n",
              "  (pooler): BertPooler(\n",
              "    (dense): Linear(in_features=312, out_features=312, bias=True)\n",
              "    (activation): Tanh()\n",
              "  )\n",
              ")"
            ]
          },
          "metadata": {},
          "execution_count": 9
        }
      ]
    },
    {
      "cell_type": "markdown",
      "source": [
        "# Extract latent features from pre-trained model"
      ],
      "metadata": {
        "id": "jJNIZzA-aTOE"
      }
    },
    {
      "cell_type": "markdown",
      "source": [
        "It is hard to train the pre-trained model since it will cost a lot of time and computational resources. So here we are using the pre-trained model to extract the latent feature, and then build and train our own neural network."
      ],
      "metadata": {
        "id": "l6Y6rwGB2SWp"
      }
    },
    {
      "cell_type": "code",
      "source": [
        "from torch.cuda.amp import autocast\n",
        "\n",
        "def extract_features(texts, batch_size=8, max_length=64, device=\"cuda\"):\n",
        "    albert_model.to(device)\n",
        "    features = []\n",
        "    with torch.no_grad():\n",
        "        for i in range(0, len(texts), batch_size):\n",
        "            batch_texts = texts[i:i + batch_size]\n",
        "            encoded = tokenizer(\n",
        "                batch_texts,\n",
        "                truncation=True,\n",
        "                padding=True,\n",
        "                max_length=max_length,\n",
        "                return_tensors=\"pt\"\n",
        "            )\n",
        "            input_ids = encoded[\"input_ids\"].to(device)\n",
        "            attention_mask = encoded[\"attention_mask\"].to(device)\n",
        "\n",
        "            with autocast():  # Use mixed precision\n",
        "                outputs = albert_model(input_ids, attention_mask=attention_mask)\n",
        "                cls_embeddings = outputs.last_hidden_state[:, 0, :]  # Extract [CLS] token\n",
        "                features.append(cls_embeddings)\n",
        "    return torch.cat(features, dim=0)\n"
      ],
      "metadata": {
        "id": "gmpdanU-9cJ8"
      },
      "execution_count": 10,
      "outputs": []
    },
    {
      "cell_type": "code",
      "source": [
        "def save_features_to_disk(texts, labels, file_name, batch_size=8, max_length=64, device=\"cpu\"):\n",
        "    features = extract_features(texts, batch_size=batch_size, max_length=max_length, device=\"cpu\")\n",
        "    torch.save((features, torch.tensor(labels)), file_name)\n",
        "\n",
        "# Save features for train, validation, and test sets\n",
        "save_features_to_disk(train_texts, train_labels, \"train_features.pt\")\n",
        "save_features_to_disk(val_texts, val_labels, \"val_features.pt\")\n",
        "save_features_to_disk(test_texts, test_labels, \"test_features.pt\")\n",
        "\n",
        "# Load features when needed\n",
        "train_features, train_labels = torch.load(\"train_features.pt\")\n",
        "val_features, val_labels = torch.load(\"val_features.pt\")\n",
        "test_features, test_labels = torch.load(\"test_features.pt\")\n"
      ],
      "metadata": {
        "colab": {
          "base_uri": "https://localhost:8080/"
        },
        "id": "Xrhvh1eq9eG9",
        "outputId": "1e43db77-4456-4204-b05d-7dc1d921d260"
      },
      "execution_count": 11,
      "outputs": [
        {
          "output_type": "stream",
          "name": "stderr",
          "text": [
            "<ipython-input-10-ba9e11a34497>:19: FutureWarning: `torch.cuda.amp.autocast(args...)` is deprecated. Please use `torch.amp.autocast('cuda', args...)` instead.\n",
            "  with autocast():  # Use mixed precision\n",
            "/usr/local/lib/python3.10/dist-packages/torch/amp/autocast_mode.py:266: UserWarning: User provided device_type of 'cuda', but CUDA is not available. Disabling\n",
            "  warnings.warn(\n",
            "<ipython-input-11-f4e4d554c76d>:11: FutureWarning: You are using `torch.load` with `weights_only=False` (the current default value), which uses the default pickle module implicitly. It is possible to construct malicious pickle data which will execute arbitrary code during unpickling (See https://github.com/pytorch/pytorch/blob/main/SECURITY.md#untrusted-models for more details). In a future release, the default value for `weights_only` will be flipped to `True`. This limits the functions that could be executed during unpickling. Arbitrary objects will no longer be allowed to be loaded via this mode unless they are explicitly allowlisted by the user via `torch.serialization.add_safe_globals`. We recommend you start setting `weights_only=True` for any use case where you don't have full control of the loaded file. Please open an issue on GitHub for any issues related to this experimental feature.\n",
            "  train_features, train_labels = torch.load(\"train_features.pt\")\n",
            "<ipython-input-11-f4e4d554c76d>:12: FutureWarning: You are using `torch.load` with `weights_only=False` (the current default value), which uses the default pickle module implicitly. It is possible to construct malicious pickle data which will execute arbitrary code during unpickling (See https://github.com/pytorch/pytorch/blob/main/SECURITY.md#untrusted-models for more details). In a future release, the default value for `weights_only` will be flipped to `True`. This limits the functions that could be executed during unpickling. Arbitrary objects will no longer be allowed to be loaded via this mode unless they are explicitly allowlisted by the user via `torch.serialization.add_safe_globals`. We recommend you start setting `weights_only=True` for any use case where you don't have full control of the loaded file. Please open an issue on GitHub for any issues related to this experimental feature.\n",
            "  val_features, val_labels = torch.load(\"val_features.pt\")\n",
            "<ipython-input-11-f4e4d554c76d>:13: FutureWarning: You are using `torch.load` with `weights_only=False` (the current default value), which uses the default pickle module implicitly. It is possible to construct malicious pickle data which will execute arbitrary code during unpickling (See https://github.com/pytorch/pytorch/blob/main/SECURITY.md#untrusted-models for more details). In a future release, the default value for `weights_only` will be flipped to `True`. This limits the functions that could be executed during unpickling. Arbitrary objects will no longer be allowed to be loaded via this mode unless they are explicitly allowlisted by the user via `torch.serialization.add_safe_globals`. We recommend you start setting `weights_only=True` for any use case where you don't have full control of the loaded file. Please open an issue on GitHub for any issues related to this experimental feature.\n",
            "  test_features, test_labels = torch.load(\"test_features.pt\")\n"
          ]
        }
      ]
    },
    {
      "cell_type": "code",
      "source": [
        "from torch.utils.data import TensorDataset, DataLoader\n",
        "\n",
        "# Create TensorDatasets\n",
        "train_dataset = TensorDataset(train_features, train_labels)\n",
        "val_dataset = TensorDataset(val_features, val_labels)\n",
        "test_dataset = TensorDataset(test_features, test_labels)\n",
        "\n",
        "# Create DataLoaders\n",
        "batch_size = 16\n",
        "train_loader = DataLoader(train_dataset, batch_size=batch_size, shuffle=True)\n",
        "val_loader = DataLoader(val_dataset, batch_size=batch_size)\n",
        "test_loader = DataLoader(test_dataset, batch_size=batch_size)\n"
      ],
      "metadata": {
        "id": "Q3NKcgXeCMnq"
      },
      "execution_count": 12,
      "outputs": []
    },
    {
      "cell_type": "markdown",
      "source": [
        "# Baseline modle using one fully connected layer"
      ],
      "metadata": {
        "id": "ia_pImWUbeIH"
      }
    },
    {
      "cell_type": "code",
      "source": [
        "## define the model\n",
        "class SimpleClassifier(nn.Module):\n",
        "    def __init__(self, input_dim, num_classes):\n",
        "        super(SimpleClassifier, self).__init__()\n",
        "        self.fc = nn.Linear(input_dim, num_classes)  # Single fully connected layer\n",
        "\n",
        "    def forward(self, x):\n",
        "        return self.fc(x)  # No activation for baseline\n"
      ],
      "metadata": {
        "id": "l3PdWuEbbb9X"
      },
      "execution_count": 13,
      "outputs": []
    },
    {
      "cell_type": "code",
      "source": [
        "# Check if GPU is available\n",
        "device = torch.device(\"cuda\" if torch.cuda.is_available() else \"cpu\")\n",
        "\n",
        "# Initialize the simplest classifier\n",
        "input_dim = train_features.shape[1]  # Feature size from DistilBERT\n",
        "num_classes = len(set(labels))  # Number of unique labels\n",
        "simplest_classifier = SimpleClassifier(input_dim, num_classes).to(device)\n"
      ],
      "metadata": {
        "id": "q36bEMMfbt7T"
      },
      "execution_count": 14,
      "outputs": []
    },
    {
      "cell_type": "code",
      "source": [
        "# Define loss function and optimizer\n",
        "criterion = nn.CrossEntropyLoss()\n",
        "optimizer = optim.Adam(simplest_classifier.parameters(), lr=5e-5)\n",
        "\n",
        "# Training loop with early stopping\n",
        "epochs = 200\n",
        "patience = 3  # Number of epochs to wait for improvement before stopping\n",
        "best_val_loss = float('inf')  # Initialize best validation loss\n",
        "patience_counter = 0  # Counter to track the number of epochs without improvement\n",
        "\n",
        "train_losses = []\n",
        "val_losses = []\n",
        "\n",
        "for epoch in range(epochs):\n",
        "    # Training phase\n",
        "    simplest_classifier.train()\n",
        "    total_train_loss = 0\n",
        "    for batch_features, batch_labels in train_loader:\n",
        "        batch_features, batch_labels = batch_features.to(device), batch_labels.to(device)\n",
        "\n",
        "        optimizer.zero_grad()\n",
        "        outputs = simplest_classifier(batch_features)\n",
        "        loss = criterion(outputs, batch_labels)\n",
        "        loss.backward()\n",
        "        optimizer.step()\n",
        "        total_train_loss += loss.item()\n",
        "\n",
        "    train_losses.append(total_train_loss / len(train_loader))\n",
        "\n",
        "    # Validation phase\n",
        "    simplest_classifier.eval()\n",
        "    total_val_loss = 0\n",
        "    all_preds = []\n",
        "    all_labels = []\n",
        "    with torch.no_grad():\n",
        "        for batch_features, batch_labels in val_loader:\n",
        "            batch_features, batch_labels = batch_features.to(device), batch_labels.to(device)\n",
        "            outputs = simplest_classifier(batch_features)\n",
        "            loss = criterion(outputs, batch_labels)\n",
        "            total_val_loss += loss.item()\n",
        "\n",
        "            preds = torch.argmax(outputs, dim=1)\n",
        "            all_preds.extend(preds.cpu().numpy())\n",
        "            all_labels.extend(batch_labels.cpu().numpy())\n",
        "\n",
        "    val_losses.append(total_val_loss / len(val_loader))\n",
        "    val_accuracy = accuracy_score(all_labels, all_preds)\n",
        "\n",
        "    # Print results every 10 epochs\n",
        "    if (epoch + 1) % 10 == 0 or epoch == 0:  # Always show the result at epoch 1\n",
        "        print(f\"Epoch {epoch+1}/{epochs}, Train Loss: {train_losses[-1]:.4f}, \"\n",
        "              f\"Val Loss: {val_losses[-1]:.4f}, Val Accuracy: {val_accuracy:.4f}\")\n",
        "\n",
        "    # Early Stopping: Check if validation loss improved\n",
        "    if val_losses[-1] < best_val_loss:\n",
        "        best_val_loss = val_losses[-1]  # Update best validation loss\n",
        "        patience_counter = 0  # Reset patience counter\n",
        "        torch.save(simplest_classifier.state_dict(), 'best_model.pt')  # Save the best model\n",
        "    else:\n",
        "        patience_counter += 1  # Increment patience counter\n",
        "        print(f\"No improvement in validation loss for {patience_counter} epoch(s).\")\n",
        "\n",
        "    # Stop training if patience counter exceeds the threshold\n",
        "    if patience_counter >= patience:\n",
        "        print(f\"Early stopping triggered after {epoch+1} epochs. Best Val Loss: {best_val_loss:.4f}\")\n",
        "        break\n",
        "\n",
        "# Load the best model for evaluation\n",
        "simplest_classifier.load_state_dict(torch.load('best_model.pt'))\n",
        "print(\"Best model loaded for evaluation.\")\n"
      ],
      "metadata": {
        "colab": {
          "base_uri": "https://localhost:8080/"
        },
        "id": "bgml8FLZbzED",
        "outputId": "53a13c2b-811e-4c50-beda-d7279e6cefb7"
      },
      "execution_count": 15,
      "outputs": [
        {
          "output_type": "stream",
          "name": "stdout",
          "text": [
            "Epoch 1/200, Train Loss: 1.4638, Val Loss: 1.3402, Val Accuracy: 0.5238\n",
            "Epoch 10/200, Train Loss: 1.1663, Val Loss: 1.1635, Val Accuracy: 0.5653\n",
            "Epoch 20/200, Train Loss: 1.1264, Val Loss: 1.1252, Val Accuracy: 0.5770\n",
            "Epoch 30/200, Train Loss: 1.1047, Val Loss: 1.1035, Val Accuracy: 0.5859\n",
            "Epoch 40/200, Train Loss: 1.0908, Val Loss: 1.0892, Val Accuracy: 0.5905\n",
            "Epoch 50/200, Train Loss: 1.0805, Val Loss: 1.0787, Val Accuracy: 0.5967\n",
            "Epoch 60/200, Train Loss: 1.0725, Val Loss: 1.0713, Val Accuracy: 0.5984\n",
            "Epoch 70/200, Train Loss: 1.0660, Val Loss: 1.0644, Val Accuracy: 0.6005\n",
            "No improvement in validation loss for 1 epoch(s).\n",
            "Epoch 80/200, Train Loss: 1.0606, Val Loss: 1.0590, Val Accuracy: 0.6010\n",
            "No improvement in validation loss for 1 epoch(s).\n",
            "Epoch 90/200, Train Loss: 1.0561, Val Loss: 1.0540, Val Accuracy: 0.6048\n",
            "No improvement in validation loss for 1 epoch(s).\n",
            "Epoch 100/200, Train Loss: 1.0519, Val Loss: 1.0505, Val Accuracy: 0.6068\n",
            "No improvement in validation loss for 1 epoch(s).\n",
            "No improvement in validation loss for 1 epoch(s).\n",
            "No improvement in validation loss for 1 epoch(s).\n",
            "Epoch 110/200, Train Loss: 1.0484, Val Loss: 1.0464, Val Accuracy: 0.6111\n",
            "No improvement in validation loss for 1 epoch(s).\n",
            "No improvement in validation loss for 1 epoch(s).\n",
            "Epoch 120/200, Train Loss: 1.0452, Val Loss: 1.0433, Val Accuracy: 0.6116\n",
            "No improvement in validation loss for 1 epoch(s).\n",
            "Epoch 130/200, Train Loss: 1.0422, Val Loss: 1.0404, Val Accuracy: 0.6132\n",
            "No improvement in validation loss for 1 epoch(s).\n",
            "Epoch 140/200, Train Loss: 1.0396, Val Loss: 1.0379, Val Accuracy: 0.6149\n",
            "No improvement in validation loss for 1 epoch(s).\n",
            "Epoch 150/200, Train Loss: 1.0373, Val Loss: 1.0354, Val Accuracy: 0.6149\n",
            "No improvement in validation loss for 1 epoch(s).\n",
            "No improvement in validation loss for 1 epoch(s).\n",
            "Epoch 160/200, Train Loss: 1.0351, Val Loss: 1.0335, Val Accuracy: 0.6149\n",
            "No improvement in validation loss for 1 epoch(s).\n",
            "No improvement in validation loss for 1 epoch(s).\n",
            "Epoch 170/200, Train Loss: 1.0331, Val Loss: 1.0311, Val Accuracy: 0.6161\n",
            "No improvement in validation loss for 1 epoch(s).\n",
            "No improvement in validation loss for 1 epoch(s).\n",
            "No improvement in validation loss for 1 epoch(s).\n",
            "No improvement in validation loss for 1 epoch(s).\n",
            "Epoch 180/200, Train Loss: 1.0312, Val Loss: 1.0291, Val Accuracy: 0.6171\n",
            "No improvement in validation loss for 1 epoch(s).\n",
            "No improvement in validation loss for 1 epoch(s).\n",
            "No improvement in validation loss for 2 epoch(s).\n",
            "No improvement in validation loss for 1 epoch(s).\n",
            "No improvement in validation loss for 2 epoch(s).\n",
            "Epoch 190/200, Train Loss: 1.0295, Val Loss: 1.0277, Val Accuracy: 0.6176\n",
            "No improvement in validation loss for 1 epoch(s).\n",
            "No improvement in validation loss for 1 epoch(s).\n",
            "No improvement in validation loss for 1 epoch(s).\n",
            "No improvement in validation loss for 1 epoch(s).\n",
            "Epoch 200/200, Train Loss: 1.0278, Val Loss: 1.0260, Val Accuracy: 0.6202\n",
            "Best model loaded for evaluation.\n"
          ]
        },
        {
          "output_type": "stream",
          "name": "stderr",
          "text": [
            "<ipython-input-15-1fb674fcb5a7>:69: FutureWarning: You are using `torch.load` with `weights_only=False` (the current default value), which uses the default pickle module implicitly. It is possible to construct malicious pickle data which will execute arbitrary code during unpickling (See https://github.com/pytorch/pytorch/blob/main/SECURITY.md#untrusted-models for more details). In a future release, the default value for `weights_only` will be flipped to `True`. This limits the functions that could be executed during unpickling. Arbitrary objects will no longer be allowed to be loaded via this mode unless they are explicitly allowlisted by the user via `torch.serialization.add_safe_globals`. We recommend you start setting `weights_only=True` for any use case where you don't have full control of the loaded file. Please open an issue on GitHub for any issues related to this experimental feature.\n",
            "  simplest_classifier.load_state_dict(torch.load('best_model.pt'))\n"
          ]
        }
      ]
    },
    {
      "cell_type": "code",
      "source": [
        "# Match the length of the shorter list\n",
        "min_epochs = min(len(train_losses), len(val_losses))\n",
        "\n",
        "plt.figure(figsize=(8, 6))\n",
        "plt.plot(range(1, min_epochs + 1), train_losses[:min_epochs], label=\"Train Loss\")\n",
        "plt.plot(range(1, min_epochs + 1), val_losses[:min_epochs], label=\"Validation Loss\")\n",
        "plt.xlabel(\"Epochs\")\n",
        "plt.ylabel(\"Loss\")\n",
        "plt.title(\"Training vs. Validation Loss (Baseline)\")\n",
        "plt.legend()\n",
        "plt.grid()\n",
        "plt.show()\n"
      ],
      "metadata": {
        "colab": {
          "base_uri": "https://localhost:8080/",
          "height": 564
        },
        "id": "FG_iEUl1b128",
        "outputId": "1711cebf-80d8-4879-fbab-e5caf07d90dc"
      },
      "execution_count": 16,
      "outputs": [
        {
          "output_type": "display_data",
          "data": {
            "text/plain": [
              "<Figure size 800x600 with 1 Axes>"
            ],
            "image/png": "[encoded data removed]"
          },
          "metadata": {}
        }
      ]
    },
    {
      "cell_type": "code",
      "source": [
        "from sklearn.metrics import accuracy_score, classification_report, confusion_matrix\n",
        "import seaborn as sns\n",
        "import matplotlib.pyplot as plt\n",
        "\n",
        "# Load the best model for evaluation\n",
        "simplest_classifier.load_state_dict(torch.load('best_model.pt'))\n",
        "simplest_classifier.eval()  # Set model to evaluation mode\n",
        "print(\"Best model loaded for evaluation.\")\n",
        "\n",
        "# Evaluate on test data\n",
        "all_test_preds = []\n",
        "all_test_labels = []\n",
        "\n",
        "with torch.no_grad():\n",
        "    for batch_features, batch_labels in test_loader:\n",
        "        batch_features, batch_labels = batch_features.to(device), batch_labels.to(device)\n",
        "        outputs = simplest_classifier(batch_features)\n",
        "        preds = torch.argmax(outputs, dim=1)\n",
        "        all_test_preds.extend(preds.cpu().numpy())\n",
        "        all_test_labels.extend(batch_labels.cpu().numpy())\n",
        "\n",
        "# Calculate test accuracy\n",
        "test_accuracy = accuracy_score(all_test_labels, all_test_preds)\n",
        "print(f\"Test Accuracy: {test_accuracy:.4f}\")\n",
        "\n",
        "# Classification Report\n",
        "class_names = ['Class 0', 'Class 1', 'Class 2', 'Class 3', 'Class 4', 'Class 5']  # Modify based on your dataset\n",
        "print(\"\\nClassification Report:\")\n",
        "print(classification_report(all_test_labels, all_test_preds, target_names=class_names))\n",
        "\n",
        "# Confusion Matrix\n",
        "conf_matrix = confusion_matrix(all_test_labels, all_test_preds)\n",
        "plt.figure(figsize=(8, 6))\n",
        "sns.heatmap(conf_matrix, annot=True, fmt='d', cmap='Blues', xticklabels=class_names, yticklabels=class_names)\n",
        "plt.xlabel(\"Predicted\")\n",
        "plt.ylabel(\"True\")\n",
        "plt.title(\"Confusion Matrix\")\n",
        "plt.show()\n"
      ],
      "metadata": {
        "colab": {
          "base_uri": "https://localhost:8080/",
          "height": 923
        },
        "id": "VzrHb9B-7aDl",
        "outputId": "abe48702-cfbe-4d61-c4da-d50e90994fdb"
      },
      "execution_count": 17,
      "outputs": [
        {
          "output_type": "stream",
          "name": "stderr",
          "text": [
            "<ipython-input-17-c461c3f07c3f>:6: FutureWarning: You are using `torch.load` with `weights_only=False` (the current default value), which uses the default pickle module implicitly. It is possible to construct malicious pickle data which will execute arbitrary code during unpickling (See https://github.com/pytorch/pytorch/blob/main/SECURITY.md#untrusted-models for more details). In a future release, the default value for `weights_only` will be flipped to `True`. This limits the functions that could be executed during unpickling. Arbitrary objects will no longer be allowed to be loaded via this mode unless they are explicitly allowlisted by the user via `torch.serialization.add_safe_globals`. We recommend you start setting `weights_only=True` for any use case where you don't have full control of the loaded file. Please open an issue on GitHub for any issues related to this experimental feature.\n",
            "  simplest_classifier.load_state_dict(torch.load('best_model.pt'))\n"
          ]
        },
        {
          "output_type": "stream",
          "name": "stdout",
          "text": [
            "Best model loaded for evaluation.\n",
            "Test Accuracy: 0.6181\n",
            "\n",
            "Classification Report:\n",
            "              precision    recall  f1-score   support\n",
            "\n",
            "     Class 0       0.61      0.77      0.68      1227\n",
            "     Class 1       0.67      0.81      0.73      1406\n",
            "     Class 2       0.39      0.11      0.17       341\n",
            "     Class 3       0.61      0.40      0.48       569\n",
            "     Class 4       0.52      0.43      0.47       472\n",
            "     Class 5       0.53      0.21      0.31       154\n",
            "\n",
            "    accuracy                           0.62      4169\n",
            "   macro avg       0.55      0.46      0.47      4169\n",
            "weighted avg       0.60      0.62      0.59      4169\n",
            "\n"
          ]
        },
        {
          "output_type": "display_data",
          "data": {
            "text/plain": [
              "<Figure size 800x600 with 2 Axes>"
            ],
            "image/png": "[encoded data removed]"
          },
          "metadata": {}
        }
      ]
    },
    {
      "cell_type": "markdown",
      "source": [
        "# MLP （Fine-tuned model）"
      ],
      "metadata": {
        "id": "uf7p_o9Kb2wU"
      }
    },
    {
      "cell_type": "markdown",
      "source": [
        "Then we build multi-layer perceptron model, fine-tuned the hyperprematers while training."
      ],
      "metadata": {
        "id": "AOvb8X7X44bT"
      }
    },
    {
      "cell_type": "code",
      "source": [
        "# define the model\n",
        "import torch.nn as nn\n",
        "\n",
        "class ResidualMLP(nn.Module):\n",
        "    def __init__(self, input_dim, num_classes):\n",
        "        super(ResidualMLP, self).__init__()\n",
        "        self.fc1 = nn.Linear(input_dim, 512)\n",
        "        self.fc2 = nn.Linear(512, 256)\n",
        "        self.fc3 = nn.Linear(256, 128)\n",
        "        self.fc4 = nn.Linear(128, 64)\n",
        "        self.fc5 = nn.Linear(64, num_classes)\n",
        "\n",
        "        self.relu = nn.ReLU()\n",
        "        self.dropout = nn.Dropout(p=0.3)\n",
        "\n",
        "        # Projection layers to align dimensions for residual connections\n",
        "        self.proj_fc2 = nn.Linear(512, 256)\n",
        "        self.proj_fc3 = nn.Linear(256, 128)\n",
        "        self.proj_fc4 = nn.Linear(128, 64)\n",
        "\n",
        "    def forward(self, x):\n",
        "        # First layer\n",
        "        x = self.fc1(x)\n",
        "        x = self.relu(x)\n",
        "        x = self.dropout(x)\n",
        "\n",
        "        # Second layer with residual connection\n",
        "        residual2 = self.proj_fc2(x)  # Align dimensions\n",
        "        x = self.fc2(x)\n",
        "        x += residual2  # Add residual connection\n",
        "        x = self.relu(x)\n",
        "        x = self.dropout(x)\n",
        "\n",
        "        # Third layer with residual connection\n",
        "        residual3 = self.proj_fc3(x)  # Align dimensions\n",
        "        x = self.fc3(x)\n",
        "        x += residual3  # Add residual connection\n",
        "        x = self.relu(x)\n",
        "        x = self.dropout(x)\n",
        "\n",
        "        # Fourth layer with residual connection\n",
        "        residual4 = self.proj_fc4(x)  # Align dimensions\n",
        "        x = self.fc4(x)\n",
        "        x += residual4  # Add residual connection\n",
        "        x = self.relu(x)\n",
        "        x = self.dropout(x)\n",
        "\n",
        "        # Fifth layer (output)\n",
        "        x = self.fc5(x)\n",
        "        return x\n"
      ],
      "metadata": {
        "id": "lHA4pLphjoP8"
      },
      "execution_count": 18,
      "outputs": []
    },
    {
      "cell_type": "code",
      "source": [
        "# Define loss function and optimizer\n",
        "model = ResidualMLP(input_dim, num_classes).to(device)  # Ensure this is defined\n",
        "criterion = nn.CrossEntropyLoss()\n",
        "optimizer = optim.AdamW(model.parameters(), lr=5e-5, weight_decay=1e-2)\n",
        "\n",
        "# Add a learning rate scheduler\n",
        "from torch.optim.lr_scheduler import ReduceLROnPlateau\n",
        "scheduler = ReduceLROnPlateau(optimizer, mode='min', factor=0.5, patience=2)\n"
      ],
      "metadata": {
        "id": "GA3_X6UMjrVl"
      },
      "execution_count": 19,
      "outputs": []
    },
    {
      "cell_type": "code",
      "source": [
        "\n",
        "# Training loop with early stopping\n",
        "epochs = 200\n",
        "patience = 10  # Number of epochs to wait for improvement before stopping\n",
        "best_val_loss = float('inf')  # Initialize best validation loss\n",
        "patience_counter = 0  # Counter to track the number of epochs without improvement\n",
        "\n",
        "train_losses = []\n",
        "val_losses = []\n",
        "\n",
        "for epoch in range(epochs):\n",
        "    # Training phase\n",
        "    model.train()\n",
        "    total_train_loss = 0\n",
        "    for batch_features, batch_labels in train_loader:\n",
        "        batch_features, batch_labels = batch_features.to(device), batch_labels.to(device)\n",
        "\n",
        "        optimizer.zero_grad()\n",
        "        outputs = model(batch_features)\n",
        "        loss = criterion(outputs, batch_labels)\n",
        "        loss.backward()\n",
        "        optimizer.step()\n",
        "        total_train_loss += loss.item()\n",
        "\n",
        "    train_losses.append(total_train_loss / len(train_loader))\n",
        "\n",
        "    # Validation phase\n",
        "    model.eval()\n",
        "    total_val_loss = 0\n",
        "    all_preds = []\n",
        "    all_labels = []\n",
        "    with torch.no_grad():\n",
        "        for batch_features, batch_labels in val_loader:\n",
        "            batch_features, batch_labels = batch_features.to(device), batch_labels.to(device)\n",
        "            outputs = model(batch_features)\n",
        "            loss = criterion(outputs, batch_labels)\n",
        "            total_val_loss += loss.item()\n",
        "\n",
        "            preds = torch.argmax(outputs, dim=1)\n",
        "            all_preds.extend(preds.cpu().numpy())\n",
        "            all_labels.extend(batch_labels.cpu().numpy())\n",
        "\n",
        "    val_losses.append(total_val_loss / len(val_loader))\n",
        "    val_accuracy = accuracy_score(all_labels, all_preds)\n",
        "\n",
        "    # Scheduler step\n",
        "    scheduler.step(val_losses[-1])\n",
        "\n",
        "    # Print results every 10 epochs\n",
        "    if (epoch + 1) % 10 == 0 or epoch == 0:  # Always show the result at epoch 1\n",
        "        print(f\"Epoch {epoch+1}/{epochs}, Train Loss: {train_losses[-1]:.4f}, \"\n",
        "              f\"Val Loss: {val_losses[-1]:.4f}, Val Accuracy: {val_accuracy:.4f}, \"\n",
        "              f\"LR: {optimizer.param_groups[0]['lr']:.1e}\")\n",
        "\n",
        "    # Early Stopping: Check if validation loss improved\n",
        "    if val_losses[-1] < best_val_loss:\n",
        "        best_val_loss = val_losses[-1]  # Update best validation loss\n",
        "        patience_counter = 0  # Reset patience counter\n",
        "        torch.save(model.state_dict(), 'best_model1.pt')  # Save the best model\n",
        "        print(f\"Best model updated at epoch {epoch+1}.\")\n",
        "    else:\n",
        "        patience_counter += 1  # Increment patience counter\n",
        "        print(f\"No improvement in validation loss for {patience_counter} epoch(s).\")\n",
        "\n",
        "    # Stop training if patience counter exceeds the threshold\n",
        "    if patience_counter >= patience:\n",
        "        print(f\"Early stopping triggered after {epoch+1} epochs. Best Val Loss: {best_val_loss:.4f}\")\n",
        "        break\n",
        "\n",
        "# Load the best model for evaluation\n",
        "model.load_state_dict(torch.load('best_model1.pt'))\n",
        "print(\"Best model loaded for evaluation.\")\n"
      ],
      "metadata": {
        "colab": {
          "base_uri": "https://localhost:8080/"
        },
        "id": "W-xt8z9-jtB9",
        "outputId": "29457702-6158-4e2e-a9e2-c83628d181af"
      },
      "execution_count": 20,
      "outputs": [
        {
          "output_type": "stream",
          "name": "stdout",
          "text": [
            "Epoch 1/200, Train Loss: 1.3627, Val Loss: 1.2294, Val Accuracy: 0.5362, LR: 5.0e-05\n",
            "Best model updated at epoch 1.\n",
            "Best model updated at epoch 2.\n",
            "Best model updated at epoch 3.\n",
            "Best model updated at epoch 4.\n",
            "Best model updated at epoch 5.\n",
            "Best model updated at epoch 6.\n",
            "Best model updated at epoch 7.\n",
            "Best model updated at epoch 8.\n",
            "Best model updated at epoch 9.\n",
            "Epoch 10/200, Train Loss: 1.0533, Val Loss: 1.0047, Val Accuracy: 0.6233, LR: 5.0e-05\n",
            "Best model updated at epoch 10.\n",
            "Best model updated at epoch 11.\n",
            "Best model updated at epoch 12.\n",
            "Best model updated at epoch 13.\n",
            "Best model updated at epoch 14.\n",
            "Best model updated at epoch 15.\n",
            "Best model updated at epoch 16.\n",
            "Best model updated at epoch 17.\n",
            "No improvement in validation loss for 1 epoch(s).\n",
            "Best model updated at epoch 19.\n",
            "Epoch 20/200, Train Loss: 0.9639, Val Loss: 0.9600, Val Accuracy: 0.6404, LR: 5.0e-05\n",
            "No improvement in validation loss for 1 epoch(s).\n",
            "Best model updated at epoch 21.\n",
            "No improvement in validation loss for 1 epoch(s).\n",
            "No improvement in validation loss for 2 epoch(s).\n",
            "Best model updated at epoch 24.\n",
            "Best model updated at epoch 25.\n",
            "Best model updated at epoch 26.\n",
            "No improvement in validation loss for 1 epoch(s).\n",
            "Best model updated at epoch 28.\n",
            "Best model updated at epoch 29.\n",
            "Epoch 30/200, Train Loss: 0.9060, Val Loss: 0.9276, Val Accuracy: 0.6521, LR: 5.0e-05\n",
            "No improvement in validation loss for 1 epoch(s).\n",
            "No improvement in validation loss for 2 epoch(s).\n",
            "No improvement in validation loss for 3 epoch(s).\n",
            "Best model updated at epoch 33.\n",
            "No improvement in validation loss for 1 epoch(s).\n",
            "No improvement in validation loss for 2 epoch(s).\n",
            "Best model updated at epoch 36.\n",
            "No improvement in validation loss for 1 epoch(s).\n",
            "No improvement in validation loss for 2 epoch(s).\n",
            "Best model updated at epoch 39.\n",
            "Epoch 40/200, Train Loss: 0.8459, Val Loss: 0.9173, Val Accuracy: 0.6639, LR: 2.5e-05\n",
            "No improvement in validation loss for 1 epoch(s).\n",
            "Best model updated at epoch 41.\n",
            "No improvement in validation loss for 1 epoch(s).\n",
            "Best model updated at epoch 43.\n",
            "No improvement in validation loss for 1 epoch(s).\n",
            "No improvement in validation loss for 2 epoch(s).\n",
            "No improvement in validation loss for 3 epoch(s).\n",
            "No improvement in validation loss for 4 epoch(s).\n",
            "No improvement in validation loss for 5 epoch(s).\n",
            "No improvement in validation loss for 6 epoch(s).\n",
            "Epoch 50/200, Train Loss: 0.7988, Val Loss: 0.9079, Val Accuracy: 0.6610, LR: 6.3e-06\n",
            "No improvement in validation loss for 7 epoch(s).\n",
            "No improvement in validation loss for 8 epoch(s).\n",
            "No improvement in validation loss for 9 epoch(s).\n",
            "No improvement in validation loss for 10 epoch(s).\n",
            "Early stopping triggered after 53 epochs. Best Val Loss: 0.9042\n",
            "Best model loaded for evaluation.\n"
          ]
        },
        {
          "output_type": "stream",
          "name": "stderr",
          "text": [
            "<ipython-input-20-e25a9bae2428>:70: FutureWarning: You are using `torch.load` with `weights_only=False` (the current default value), which uses the default pickle module implicitly. It is possible to construct malicious pickle data which will execute arbitrary code during unpickling (See https://github.com/pytorch/pytorch/blob/main/SECURITY.md#untrusted-models for more details). In a future release, the default value for `weights_only` will be flipped to `True`. This limits the functions that could be executed during unpickling. Arbitrary objects will no longer be allowed to be loaded via this mode unless they are explicitly allowlisted by the user via `torch.serialization.add_safe_globals`. We recommend you start setting `weights_only=True` for any use case where you don't have full control of the loaded file. Please open an issue on GitHub for any issues related to this experimental feature.\n",
            "  model.load_state_dict(torch.load('best_model1.pt'))\n"
          ]
        }
      ]
    },
    {
      "cell_type": "code",
      "source": [
        "import matplotlib.pyplot as plt\n",
        "\n",
        "# Plot training and validation loss\n",
        "plt.figure(figsize=(8, 6))\n",
        "plt.plot(range(1, len(train_losses) + 1), train_losses, label=\"Train Loss\")\n",
        "plt.plot(range(1, len(val_losses) + 1), val_losses, label=\"Validation Loss\")\n",
        "plt.xlabel(\"Epochs\")\n",
        "plt.ylabel(\"Loss\")\n",
        "plt.title(\"Training vs. Validation Loss (Complex Model)\")\n",
        "plt.legend()\n",
        "plt.grid()\n",
        "plt.show()\n"
      ],
      "metadata": {
        "colab": {
          "base_uri": "https://localhost:8080/",
          "height": 564
        },
        "id": "Oc2avbckj0Ks",
        "outputId": "f0cca152-583d-4a91-f0c5-35378e23b121"
      },
      "execution_count": 21,
      "outputs": [
        {
          "output_type": "display_data",
          "data": {
            "text/plain": [
              "<Figure size 800x600 with 1 Axes>"
            ],
            "image/png": "[encoded data removed]"
          },
          "metadata": {}
        }
      ]
    },
    {
      "cell_type": "code",
      "source": [
        "from sklearn.metrics import accuracy_score, classification_report, confusion_matrix\n",
        "import seaborn as sns\n",
        "import matplotlib.pyplot as plt\n",
        "\n",
        "# Load the best model (if saved during early stopping)\n",
        "\n",
        "model = ResidualMLP(input_dim, num_classes).to(device)  # Define the model again for evaluation\n",
        "model.load_state_dict(torch.load('best_model1.pt'))  # Load the best model saved during training\n",
        "\n",
        "\n",
        "# Switch model to evaluation mode\n",
        "model.eval()\n",
        "\n",
        "# Evaluate on test data\n",
        "all_test_preds = []\n",
        "all_test_labels = []\n",
        "\n",
        "with torch.no_grad():\n",
        "    for batch_features, batch_labels in test_loader:\n",
        "        batch_features, batch_labels = batch_features.to(device), batch_labels.to(device)\n",
        "        outputs = model(batch_features)  # Use the consistent model instance\n",
        "        preds = torch.argmax(outputs, dim=1)\n",
        "        all_test_preds.extend(preds.cpu().numpy())\n",
        "        all_test_labels.extend(batch_labels.cpu().numpy())\n",
        "\n",
        "\n",
        "# Calculate Accuracy\n",
        "test_accuracy = accuracy_score(all_test_labels, all_test_preds)\n",
        "print(f\"Test Accuracy: {test_accuracy:.4f}\")\n",
        "\n",
        "# Define class names based on the label mapping in your dataset\n",
        "class_names = ['sadness', 'joy', 'love', 'anger', 'fear', 'surprise']\n",
        "\n",
        "# Classification Report\n",
        "print(\"\\nClassification Report:\")\n",
        "print(classification_report(all_test_labels, all_test_preds, target_names=class_names))  # Define class_names earlier\n",
        "\n",
        "# Confusion Matrix\n",
        "conf_matrix = confusion_matrix(all_test_labels, all_test_preds)\n",
        "plt.figure(figsize=(8, 6))\n",
        "sns.heatmap(conf_matrix, annot=True, fmt='d', cmap='Blues', xticklabels=class_names, yticklabels=class_names)\n",
        "plt.xlabel(\"Predicted\")\n",
        "plt.ylabel(\"True\")\n",
        "plt.title(\"Confusion Matrix for Residual MLP Model\")\n",
        "plt.show()\n"
      ],
      "metadata": {
        "colab": {
          "base_uri": "https://localhost:8080/",
          "height": 905
        },
        "id": "LmRvs7rnu0v4",
        "outputId": "acc28572-7a27-4b07-eb79-219d8ac0ad75"
      },
      "execution_count": 22,
      "outputs": [
        {
          "output_type": "stream",
          "name": "stderr",
          "text": [
            "<ipython-input-22-c72909ee1dd8>:8: FutureWarning: You are using `torch.load` with `weights_only=False` (the current default value), which uses the default pickle module implicitly. It is possible to construct malicious pickle data which will execute arbitrary code during unpickling (See https://github.com/pytorch/pytorch/blob/main/SECURITY.md#untrusted-models for more details). In a future release, the default value for `weights_only` will be flipped to `True`. This limits the functions that could be executed during unpickling. Arbitrary objects will no longer be allowed to be loaded via this mode unless they are explicitly allowlisted by the user via `torch.serialization.add_safe_globals`. We recommend you start setting `weights_only=True` for any use case where you don't have full control of the loaded file. Please open an issue on GitHub for any issues related to this experimental feature.\n",
            "  model.load_state_dict(torch.load('best_model1.pt'))  # Load the best model saved during training\n"
          ]
        },
        {
          "output_type": "stream",
          "name": "stdout",
          "text": [
            "Test Accuracy: 0.6577\n",
            "\n",
            "Classification Report:\n",
            "              precision    recall  f1-score   support\n",
            "\n",
            "     sadness       0.66      0.76      0.71      1227\n",
            "         joy       0.73      0.80      0.76      1406\n",
            "        love       0.47      0.26      0.33       341\n",
            "       anger       0.63      0.51      0.56       569\n",
            "        fear       0.54      0.53      0.53       472\n",
            "    surprise       0.54      0.38      0.44       154\n",
            "\n",
            "    accuracy                           0.66      4169\n",
            "   macro avg       0.60      0.54      0.56      4169\n",
            "weighted avg       0.65      0.66      0.65      4169\n",
            "\n"
          ]
        },
        {
          "output_type": "display_data",
          "data": {
            "text/plain": [
              "<Figure size 800x600 with 2 Axes>"
            ],
            "image/png": "[encoded data removed]"
          },
          "metadata": {}
        }
      ]
    },
    {
      "cell_type": "markdown",
      "source": [],
      "metadata": {
        "id": "kpp4wZtrjsWq"
      }
    }
  ]
}